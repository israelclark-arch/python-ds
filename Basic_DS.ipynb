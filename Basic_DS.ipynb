{
  "nbformat": 4,
  "nbformat_minor": 0,
  "metadata": {
    "colab": {
      "name": "Basic DS.ipynb",
      "provenance": [],
      "authorship_tag": "ABX9TyOJb7mz497v5lcJYU12+v8Z",
      "include_colab_link": true
    },
    "kernelspec": {
      "name": "python3",
      "display_name": "Python 3"
    },
    "language_info": {
      "name": "python"
    }
  },
  "cells": [
    {
      "cell_type": "markdown",
      "metadata": {
        "id": "view-in-github",
        "colab_type": "text"
      },
      "source": [
        "<a href=\"https://colab.research.google.com/github/israelclark-arch/python-ds/blob/main/Basic_DS.ipynb\" target=\"_parent\"><img src=\"https://colab.research.google.com/assets/colab-badge.svg\" alt=\"Open In Colab\"/></a>"
      ]
    },
    {
      "cell_type": "code",
      "metadata": {
        "id": "2exTFFiTIfFY"
      },
      "source": [
        "algorithm = ['Linear Regression','Logistic Regression','RandomForest','a3c']"
      ],
      "execution_count": 1,
      "outputs": []
    },
    {
      "cell_type": "code",
      "metadata": {
        "id": "Ddc7lWT9Ivbm"
      },
      "source": [
        "learning = ['Supervised','Supervised','Supervised','Reinforcement']"
      ],
      "execution_count": 3,
      "outputs": []
    },
    {
      "cell_type": "code",
      "metadata": {
        "id": "gSwAJMDZJDwO"
      },
      "source": [
        "algorithm_type = ['Regression', 'Classification', 'Regression or Classification',\n",
        "'Game AI']"
      ],
      "execution_count": 4,
      "outputs": []
    },
    {
      "cell_type": "code",
      "metadata": {
        "id": "Nrc9DQXbJEtg"
      },
      "source": [
        "algorithm.append('k-means')"
      ],
      "execution_count": 5,
      "outputs": []
    },
    {
      "cell_type": "code",
      "metadata": {
        "colab": {
          "base_uri": "https://localhost:8080/"
        },
        "id": "PJDyqwsdJKAr",
        "outputId": "96054b40-3f9b-431e-a2c0-0e32aa534f98"
      },
      "source": [
        "print(algorithm)"
      ],
      "execution_count": 6,
      "outputs": [
        {
          "output_type": "stream",
          "text": [
            "['Linear Regression', 'Logistic Regression', 'RandomForest', 'a3c', 'k-means']\n"
          ],
          "name": "stdout"
        }
      ]
    },
    {
      "cell_type": "code",
      "metadata": {
        "id": "qQj93ofBJM18"
      },
      "source": [
        " "
      ],
      "execution_count": null,
      "outputs": []
    }
  ]
}